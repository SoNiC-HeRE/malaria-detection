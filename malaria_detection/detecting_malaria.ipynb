{
 "cells": [
  {
   "cell_type": "code",
   "execution_count": 3,
   "metadata": {},
   "outputs": [
    {
     "name": "stderr",
     "output_type": "stream",
     "text": [
      "WARNING:absl:Compiled the loaded model, but the compiled metrics have yet to be built. `model.compile_metrics` will be empty until you train or evaluate the model.\n"
     ]
    }
   ],
   "source": [
    "import cv2\n",
    "import numpy as np\n",
    "import tensorflow as tf\n",
    "\n",
    "# Load the model\n",
    "model_path = r'C:\\Users\\sriya\\Downloads\\malaria_detection_project\\malaria_detection_project\\malaria_detection\\malaria_parasite_detection_model_2.h5'\n",
    "model = tf.keras.models.load_model(model_path)\n",
    "\n",
    "def detect_malaria_parasites(image):\n",
    "    # Convert image bytes to numpy array\n",
    "    nparr = np.frombuffer(image.read(), np.uint8)\n",
    "    # Decode image\n",
    "    image_np = cv2.imdecode(nparr, cv2.IMREAD_COLOR)\n",
    "\n",
    "    if image_np is None:\n",
    "        print(\"Error: Unable to load the image.\")\n",
    "        return None, None\n",
    "\n",
    "    if image_np.size == 0:\n",
    "        print(\"Error: Empty image detected.\")\n",
    "        return None, None\n",
    "\n",
    "    # Resize \n",
    "    resized_image = cv2.resize(image_np, (224, 224))\n",
    "    preprocessed_image = resized_image / 255.0\n",
    "    preprocessed_image = np.expand_dims(preprocessed_image, axis=0)\n",
    "\n",
    "    # Predict\n",
    "    predictions = model.predict(preprocessed_image)\n",
    "\n",
    "    if predictions.shape[1] != 2:\n",
    "        print(\"Error: Unexpected shape of predictions. Expected shape: (1, 2), Actual shape:\", predictions.shape)\n",
    "        return None, None\n",
    "\n",
    "    # probability\n",
    "    parasitized_prob, uninfected_prob = predictions[0]\n",
    "\n",
    "    if parasitized_prob > uninfected_prob:\n",
    "        class_label = 'Parasitized'\n",
    "    else:\n",
    "        class_label = 'Uninfected'\n",
    "\n",
    "    return class_label, parasitized_prob\n"
   ]
  },
  {
   "cell_type": "code",
   "execution_count": null,
   "metadata": {},
   "outputs": [],
   "source": []
  }
 ],
 "metadata": {
  "kernelspec": {
   "display_name": "Python 3 (ipykernel)",
   "language": "python",
   "name": "python3"
  },
  "language_info": {
   "codemirror_mode": {
    "name": "ipython",
    "version": 3
   },
   "file_extension": ".py",
   "mimetype": "text/x-python",
   "name": "python",
   "nbconvert_exporter": "python",
   "pygments_lexer": "ipython3",
   "version": "3.11.0"
  }
 },
 "nbformat": 4,
 "nbformat_minor": 4
}
